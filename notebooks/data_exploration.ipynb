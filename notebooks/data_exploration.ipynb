{
 "cells": [
  {
   "cell_type": "code",
   "execution_count": 4,
   "metadata": {},
   "outputs": [
    {
     "data": {
      "text/html": [
       "<div>\n",
       "<style scoped>\n",
       "    .dataframe tbody tr th:only-of-type {\n",
       "        vertical-align: middle;\n",
       "    }\n",
       "\n",
       "    .dataframe tbody tr th {\n",
       "        vertical-align: top;\n",
       "    }\n",
       "\n",
       "    .dataframe thead th {\n",
       "        text-align: right;\n",
       "    }\n",
       "</style>\n",
       "<table border=\"1\" class=\"dataframe\">\n",
       "  <thead>\n",
       "    <tr style=\"text-align: right;\">\n",
       "      <th></th>\n",
       "      <th>date</th>\n",
       "      <th>ave_flot_air_flow</th>\n",
       "      <th>ave_flot_level</th>\n",
       "      <th>iron_feed</th>\n",
       "      <th>starch_flow</th>\n",
       "      <th>amina_flow</th>\n",
       "      <th>ore_pulp_flow</th>\n",
       "      <th>ore_pulp_pH</th>\n",
       "      <th>ore_pulp_density</th>\n",
       "      <th>silica_concentrate</th>\n",
       "    </tr>\n",
       "  </thead>\n",
       "  <tbody>\n",
       "    <tr>\n",
       "      <th>0</th>\n",
       "      <td>2017-04-24 00:00:00</td>\n",
       "      <td>300.263166</td>\n",
       "      <td>383.982443</td>\n",
       "      <td>55.17</td>\n",
       "      <td>1979.589150</td>\n",
       "      <td>599.676489</td>\n",
       "      <td>400.017222</td>\n",
       "      <td>9.774028</td>\n",
       "      <td>1.753206</td>\n",
       "      <td>4.360000</td>\n",
       "    </tr>\n",
       "    <tr>\n",
       "      <th>1</th>\n",
       "      <td>2017-04-24 01:00:00</td>\n",
       "      <td>299.782402</td>\n",
       "      <td>386.049069</td>\n",
       "      <td>55.17</td>\n",
       "      <td>1758.466329</td>\n",
       "      <td>600.043100</td>\n",
       "      <td>400.484528</td>\n",
       "      <td>9.539246</td>\n",
       "      <td>1.754190</td>\n",
       "      <td>3.290000</td>\n",
       "    </tr>\n",
       "    <tr>\n",
       "      <th>2</th>\n",
       "      <td>2017-04-24 02:00:00</td>\n",
       "      <td>299.750052</td>\n",
       "      <td>385.250935</td>\n",
       "      <td>55.17</td>\n",
       "      <td>2379.752428</td>\n",
       "      <td>599.948406</td>\n",
       "      <td>400.325617</td>\n",
       "      <td>9.434227</td>\n",
       "      <td>1.756873</td>\n",
       "      <td>4.900000</td>\n",
       "    </tr>\n",
       "    <tr>\n",
       "      <th>3</th>\n",
       "      <td>2017-04-24 03:00:00</td>\n",
       "      <td>299.997522</td>\n",
       "      <td>389.635519</td>\n",
       "      <td>55.17</td>\n",
       "      <td>2287.130046</td>\n",
       "      <td>599.580383</td>\n",
       "      <td>399.801506</td>\n",
       "      <td>9.725607</td>\n",
       "      <td>1.727125</td>\n",
       "      <td>4.860153</td>\n",
       "    </tr>\n",
       "    <tr>\n",
       "      <th>4</th>\n",
       "      <td>2017-04-24 04:00:00</td>\n",
       "      <td>300.005220</td>\n",
       "      <td>387.810807</td>\n",
       "      <td>55.17</td>\n",
       "      <td>2291.789167</td>\n",
       "      <td>599.871217</td>\n",
       "      <td>399.567333</td>\n",
       "      <td>9.845198</td>\n",
       "      <td>1.633063</td>\n",
       "      <td>4.780898</td>\n",
       "    </tr>\n",
       "  </tbody>\n",
       "</table>\n",
       "</div>"
      ],
      "text/plain": [
       "                  date  ave_flot_air_flow  ave_flot_level  iron_feed  \\\n",
       "0  2017-04-24 00:00:00         300.263166      383.982443      55.17   \n",
       "1  2017-04-24 01:00:00         299.782402      386.049069      55.17   \n",
       "2  2017-04-24 02:00:00         299.750052      385.250935      55.17   \n",
       "3  2017-04-24 03:00:00         299.997522      389.635519      55.17   \n",
       "4  2017-04-24 04:00:00         300.005220      387.810807      55.17   \n",
       "\n",
       "   starch_flow  amina_flow  ore_pulp_flow  ore_pulp_pH  ore_pulp_density  \\\n",
       "0  1979.589150  599.676489     400.017222     9.774028          1.753206   \n",
       "1  1758.466329  600.043100     400.484528     9.539246          1.754190   \n",
       "2  2379.752428  599.948406     400.325617     9.434227          1.756873   \n",
       "3  2287.130046  599.580383     399.801506     9.725607          1.727125   \n",
       "4  2291.789167  599.871217     399.567333     9.845198          1.633063   \n",
       "\n",
       "   silica_concentrate  \n",
       "0            4.360000  \n",
       "1            3.290000  \n",
       "2            4.900000  \n",
       "3            4.860153  \n",
       "4            4.780898  "
      ]
     },
     "execution_count": 4,
     "metadata": {},
     "output_type": "execute_result"
    }
   ],
   "source": [
    "import pandas as pd\n",
    "from sklearn.model_selection import train_test_split\n",
    "from sklearn.preprocessing import StandardScaler\n",
    "from sklearn.linear_model import Ridge\n",
    "from sklearn.model_selection import GridSearchCV\n",
    "import joblib\n",
    "from sklearn.metrics import mean_squared_error, r2_score\n",
    "import json\n",
    "df=pd.read_csv(\"/home/ubuntu/exam_dvc/examen-dvc/data/raw/raw.csv\")\n",
    "df.head()\n"
   ]
  },
  {
   "cell_type": "code",
   "execution_count": null,
   "metadata": {},
   "outputs": [
    {
     "data": {
      "text/html": [
       "<div>\n",
       "<style scoped>\n",
       "    .dataframe tbody tr th:only-of-type {\n",
       "        vertical-align: middle;\n",
       "    }\n",
       "\n",
       "    .dataframe tbody tr th {\n",
       "        vertical-align: top;\n",
       "    }\n",
       "\n",
       "    .dataframe thead th {\n",
       "        text-align: right;\n",
       "    }\n",
       "</style>\n",
       "<table border=\"1\" class=\"dataframe\">\n",
       "  <thead>\n",
       "    <tr style=\"text-align: right;\">\n",
       "      <th></th>\n",
       "      <th>ave_flot_air_flow</th>\n",
       "      <th>ave_flot_level</th>\n",
       "      <th>iron_feed</th>\n",
       "      <th>starch_flow</th>\n",
       "      <th>amina_flow</th>\n",
       "      <th>ore_pulp_flow</th>\n",
       "      <th>ore_pulp_pH</th>\n",
       "      <th>ore_pulp_density</th>\n",
       "      <th>silica_concentrate</th>\n",
       "    </tr>\n",
       "  </thead>\n",
       "  <tbody>\n",
       "    <tr>\n",
       "      <th>count</th>\n",
       "      <td>1817.000000</td>\n",
       "      <td>1817.000000</td>\n",
       "      <td>1817.000000</td>\n",
       "      <td>1817.000000</td>\n",
       "      <td>1817.000000</td>\n",
       "      <td>1817.000000</td>\n",
       "      <td>1817.000000</td>\n",
       "      <td>1817.000000</td>\n",
       "      <td>1817.000000</td>\n",
       "    </tr>\n",
       "    <tr>\n",
       "      <th>mean</th>\n",
       "      <td>296.036027</td>\n",
       "      <td>457.718993</td>\n",
       "      <td>57.594662</td>\n",
       "      <td>3106.797900</td>\n",
       "      <td>502.075958</td>\n",
       "      <td>400.015391</td>\n",
       "      <td>9.895610</td>\n",
       "      <td>1.681849</td>\n",
       "      <td>2.161673</td>\n",
       "    </tr>\n",
       "    <tr>\n",
       "      <th>std</th>\n",
       "      <td>6.342455</td>\n",
       "      <td>66.963782</td>\n",
       "      <td>5.753694</td>\n",
       "      <td>831.195329</td>\n",
       "      <td>65.957732</td>\n",
       "      <td>0.865649</td>\n",
       "      <td>0.298358</td>\n",
       "      <td>0.049554</td>\n",
       "      <td>1.047229</td>\n",
       "    </tr>\n",
       "    <tr>\n",
       "      <th>min</th>\n",
       "      <td>282.466012</td>\n",
       "      <td>306.748910</td>\n",
       "      <td>43.370000</td>\n",
       "      <td>401.628723</td>\n",
       "      <td>301.264021</td>\n",
       "      <td>396.331445</td>\n",
       "      <td>8.809455</td>\n",
       "      <td>1.546127</td>\n",
       "      <td>0.850000</td>\n",
       "    </tr>\n",
       "    <tr>\n",
       "      <th>25%</th>\n",
       "      <td>291.643054</td>\n",
       "      <td>408.780472</td>\n",
       "      <td>52.670000</td>\n",
       "      <td>2554.580328</td>\n",
       "      <td>454.769861</td>\n",
       "      <td>399.508139</td>\n",
       "      <td>9.705173</td>\n",
       "      <td>1.653314</td>\n",
       "      <td>1.370000</td>\n",
       "    </tr>\n",
       "    <tr>\n",
       "      <th>50%</th>\n",
       "      <td>299.859804</td>\n",
       "      <td>421.505544</td>\n",
       "      <td>57.380000</td>\n",
       "      <td>3144.695311</td>\n",
       "      <td>509.368744</td>\n",
       "      <td>399.976989</td>\n",
       "      <td>9.914017</td>\n",
       "      <td>1.690384</td>\n",
       "      <td>1.820000</td>\n",
       "    </tr>\n",
       "    <tr>\n",
       "      <th>75%</th>\n",
       "      <td>299.961731</td>\n",
       "      <td>500.251061</td>\n",
       "      <td>64.030000</td>\n",
       "      <td>3648.292550</td>\n",
       "      <td>553.007194</td>\n",
       "      <td>400.482357</td>\n",
       "      <td>10.103874</td>\n",
       "      <td>1.716987</td>\n",
       "      <td>2.670000</td>\n",
       "    </tr>\n",
       "    <tr>\n",
       "      <th>max</th>\n",
       "      <td>301.338649</td>\n",
       "      <td>767.639752</td>\n",
       "      <td>65.780000</td>\n",
       "      <td>5556.094067</td>\n",
       "      <td>715.748025</td>\n",
       "      <td>403.177721</td>\n",
       "      <td>10.758195</td>\n",
       "      <td>1.797635</td>\n",
       "      <td>5.330000</td>\n",
       "    </tr>\n",
       "  </tbody>\n",
       "</table>\n",
       "</div>"
      ],
      "text/plain": [
       "       ave_flot_air_flow  ave_flot_level    iron_feed  starch_flow  \\\n",
       "count        1817.000000     1817.000000  1817.000000  1817.000000   \n",
       "mean          296.036027      457.718993    57.594662  3106.797900   \n",
       "std             6.342455       66.963782     5.753694   831.195329   \n",
       "min           282.466012      306.748910    43.370000   401.628723   \n",
       "25%           291.643054      408.780472    52.670000  2554.580328   \n",
       "50%           299.859804      421.505544    57.380000  3144.695311   \n",
       "75%           299.961731      500.251061    64.030000  3648.292550   \n",
       "max           301.338649      767.639752    65.780000  5556.094067   \n",
       "\n",
       "        amina_flow  ore_pulp_flow  ore_pulp_pH  ore_pulp_density  \\\n",
       "count  1817.000000    1817.000000  1817.000000       1817.000000   \n",
       "mean    502.075958     400.015391     9.895610          1.681849   \n",
       "std      65.957732       0.865649     0.298358          0.049554   \n",
       "min     301.264021     396.331445     8.809455          1.546127   \n",
       "25%     454.769861     399.508139     9.705173          1.653314   \n",
       "50%     509.368744     399.976989     9.914017          1.690384   \n",
       "75%     553.007194     400.482357    10.103874          1.716987   \n",
       "max     715.748025     403.177721    10.758195          1.797635   \n",
       "\n",
       "       silica_concentrate  \n",
       "count         1817.000000  \n",
       "mean             2.161673  \n",
       "std              1.047229  \n",
       "min              0.850000  \n",
       "25%              1.370000  \n",
       "50%              1.820000  \n",
       "75%              2.670000  \n",
       "max              5.330000  "
      ]
     },
     "execution_count": 5,
     "metadata": {},
     "output_type": "execute_result"
    }
   ],
   "source": [
    "df.describe()"
   ]
  },
  {
   "cell_type": "code",
   "execution_count": 6,
   "metadata": {},
   "outputs": [
    {
     "name": "stdout",
     "output_type": "stream",
     "text": [
      "<class 'pandas.core.frame.DataFrame'>\n",
      "RangeIndex: 1817 entries, 0 to 1816\n",
      "Data columns (total 10 columns):\n",
      " #   Column              Non-Null Count  Dtype  \n",
      "---  ------              --------------  -----  \n",
      " 0   date                1817 non-null   object \n",
      " 1   ave_flot_air_flow   1817 non-null   float64\n",
      " 2   ave_flot_level      1817 non-null   float64\n",
      " 3   iron_feed           1817 non-null   float64\n",
      " 4   starch_flow         1817 non-null   float64\n",
      " 5   amina_flow          1817 non-null   float64\n",
      " 6   ore_pulp_flow       1817 non-null   float64\n",
      " 7   ore_pulp_pH         1817 non-null   float64\n",
      " 8   ore_pulp_density    1817 non-null   float64\n",
      " 9   silica_concentrate  1817 non-null   float64\n",
      "dtypes: float64(9), object(1)\n",
      "memory usage: 142.1+ KB\n"
     ]
    }
   ],
   "source": [
    "df.info()"
   ]
  },
  {
   "cell_type": "code",
   "execution_count": 2,
   "metadata": {},
   "outputs": [],
   "source": [
    "X = df.drop(['date','silica_concentrate'],axis=1)\n",
    "y = df['silica_concentrate']\n",
    "X_train, X_test, y_train, y_test = train_test_split(X, y, test_size=0.2, random_state=42)"
   ]
  },
  {
   "cell_type": "code",
   "execution_count": 3,
   "metadata": {},
   "outputs": [],
   "source": [
    "scaler = StandardScaler()\n",
    "X_train_scaled = scaler.fit_transform(X_train)\n",
    "X_test_scaled = scaler.transform(X_test)"
   ]
  },
  {
   "cell_type": "code",
   "execution_count": 4,
   "metadata": {},
   "outputs": [
    {
     "data": {
      "text/html": [
       "<style>#sk-container-id-1 {color: black;}#sk-container-id-1 pre{padding: 0;}#sk-container-id-1 div.sk-toggleable {background-color: white;}#sk-container-id-1 label.sk-toggleable__label {cursor: pointer;display: block;width: 100%;margin-bottom: 0;padding: 0.3em;box-sizing: border-box;text-align: center;}#sk-container-id-1 label.sk-toggleable__label-arrow:before {content: \"▸\";float: left;margin-right: 0.25em;color: #696969;}#sk-container-id-1 label.sk-toggleable__label-arrow:hover:before {color: black;}#sk-container-id-1 div.sk-estimator:hover label.sk-toggleable__label-arrow:before {color: black;}#sk-container-id-1 div.sk-toggleable__content {max-height: 0;max-width: 0;overflow: hidden;text-align: left;background-color: #f0f8ff;}#sk-container-id-1 div.sk-toggleable__content pre {margin: 0.2em;color: black;border-radius: 0.25em;background-color: #f0f8ff;}#sk-container-id-1 input.sk-toggleable__control:checked~div.sk-toggleable__content {max-height: 200px;max-width: 100%;overflow: auto;}#sk-container-id-1 input.sk-toggleable__control:checked~label.sk-toggleable__label-arrow:before {content: \"▾\";}#sk-container-id-1 div.sk-estimator input.sk-toggleable__control:checked~label.sk-toggleable__label {background-color: #d4ebff;}#sk-container-id-1 div.sk-label input.sk-toggleable__control:checked~label.sk-toggleable__label {background-color: #d4ebff;}#sk-container-id-1 input.sk-hidden--visually {border: 0;clip: rect(1px 1px 1px 1px);clip: rect(1px, 1px, 1px, 1px);height: 1px;margin: -1px;overflow: hidden;padding: 0;position: absolute;width: 1px;}#sk-container-id-1 div.sk-estimator {font-family: monospace;background-color: #f0f8ff;border: 1px dotted black;border-radius: 0.25em;box-sizing: border-box;margin-bottom: 0.5em;}#sk-container-id-1 div.sk-estimator:hover {background-color: #d4ebff;}#sk-container-id-1 div.sk-parallel-item::after {content: \"\";width: 100%;border-bottom: 1px solid gray;flex-grow: 1;}#sk-container-id-1 div.sk-label:hover label.sk-toggleable__label {background-color: #d4ebff;}#sk-container-id-1 div.sk-serial::before {content: \"\";position: absolute;border-left: 1px solid gray;box-sizing: border-box;top: 0;bottom: 0;left: 50%;z-index: 0;}#sk-container-id-1 div.sk-serial {display: flex;flex-direction: column;align-items: center;background-color: white;padding-right: 0.2em;padding-left: 0.2em;position: relative;}#sk-container-id-1 div.sk-item {position: relative;z-index: 1;}#sk-container-id-1 div.sk-parallel {display: flex;align-items: stretch;justify-content: center;background-color: white;position: relative;}#sk-container-id-1 div.sk-item::before, #sk-container-id-1 div.sk-parallel-item::before {content: \"\";position: absolute;border-left: 1px solid gray;box-sizing: border-box;top: 0;bottom: 0;left: 50%;z-index: -1;}#sk-container-id-1 div.sk-parallel-item {display: flex;flex-direction: column;z-index: 1;position: relative;background-color: white;}#sk-container-id-1 div.sk-parallel-item:first-child::after {align-self: flex-end;width: 50%;}#sk-container-id-1 div.sk-parallel-item:last-child::after {align-self: flex-start;width: 50%;}#sk-container-id-1 div.sk-parallel-item:only-child::after {width: 0;}#sk-container-id-1 div.sk-dashed-wrapped {border: 1px dashed gray;margin: 0 0.4em 0.5em 0.4em;box-sizing: border-box;padding-bottom: 0.4em;background-color: white;}#sk-container-id-1 div.sk-label label {font-family: monospace;font-weight: bold;display: inline-block;line-height: 1.2em;}#sk-container-id-1 div.sk-label-container {text-align: center;}#sk-container-id-1 div.sk-container {/* jupyter's `normalize.less` sets `[hidden] { display: none; }` but bootstrap.min.css set `[hidden] { display: none !important; }` so we also need the `!important` here to be able to override the default hidden behavior on the sphinx rendered scikit-learn.org. See: https://github.com/scikit-learn/scikit-learn/issues/21755 */display: inline-block !important;position: relative;}#sk-container-id-1 div.sk-text-repr-fallback {display: none;}</style><div id=\"sk-container-id-1\" class=\"sk-top-container\"><div class=\"sk-text-repr-fallback\"><pre>GridSearchCV(cv=5, estimator=Ridge(),\n",
       "             param_grid={&#x27;alpha&#x27;: [0.1, 1.0, 10.0],\n",
       "                         &#x27;solver&#x27;: [&#x27;auto&#x27;, &#x27;svd&#x27;, &#x27;cholesky&#x27;]},\n",
       "             scoring=&#x27;r2&#x27;)</pre><b>In a Jupyter environment, please rerun this cell to show the HTML representation or trust the notebook. <br />On GitHub, the HTML representation is unable to render, please try loading this page with nbviewer.org.</b></div><div class=\"sk-container\" hidden><div class=\"sk-item sk-dashed-wrapped\"><div class=\"sk-label-container\"><div class=\"sk-label sk-toggleable\"><input class=\"sk-toggleable__control sk-hidden--visually\" id=\"sk-estimator-id-1\" type=\"checkbox\" ><label for=\"sk-estimator-id-1\" class=\"sk-toggleable__label sk-toggleable__label-arrow\">GridSearchCV</label><div class=\"sk-toggleable__content\"><pre>GridSearchCV(cv=5, estimator=Ridge(),\n",
       "             param_grid={&#x27;alpha&#x27;: [0.1, 1.0, 10.0],\n",
       "                         &#x27;solver&#x27;: [&#x27;auto&#x27;, &#x27;svd&#x27;, &#x27;cholesky&#x27;]},\n",
       "             scoring=&#x27;r2&#x27;)</pre></div></div></div><div class=\"sk-parallel\"><div class=\"sk-parallel-item\"><div class=\"sk-item\"><div class=\"sk-label-container\"><div class=\"sk-label sk-toggleable\"><input class=\"sk-toggleable__control sk-hidden--visually\" id=\"sk-estimator-id-2\" type=\"checkbox\" ><label for=\"sk-estimator-id-2\" class=\"sk-toggleable__label sk-toggleable__label-arrow\">estimator: Ridge</label><div class=\"sk-toggleable__content\"><pre>Ridge()</pre></div></div></div><div class=\"sk-serial\"><div class=\"sk-item\"><div class=\"sk-estimator sk-toggleable\"><input class=\"sk-toggleable__control sk-hidden--visually\" id=\"sk-estimator-id-3\" type=\"checkbox\" ><label for=\"sk-estimator-id-3\" class=\"sk-toggleable__label sk-toggleable__label-arrow\">Ridge</label><div class=\"sk-toggleable__content\"><pre>Ridge()</pre></div></div></div></div></div></div></div></div></div></div>"
      ],
      "text/plain": [
       "GridSearchCV(cv=5, estimator=Ridge(),\n",
       "             param_grid={'alpha': [0.1, 1.0, 10.0],\n",
       "                         'solver': ['auto', 'svd', 'cholesky']},\n",
       "             scoring='r2')"
      ]
     },
     "execution_count": 4,
     "metadata": {},
     "output_type": "execute_result"
    }
   ],
   "source": [
    "\n",
    "model = Ridge()\n",
    "param_grid = {\n",
    "    'alpha': [0.1, 1.0, 10.0],  #\n",
    "    'solver': ['auto', 'svd', 'cholesky']\n",
    "}\n",
    "\n",
    "grid_search = GridSearchCV(model, param_grid, cv=5, scoring='r2')\n",
    "grid_search.fit(X_train, y_train.values.ravel())"
   ]
  },
  {
   "cell_type": "code",
   "execution_count": 5,
   "metadata": {},
   "outputs": [
    {
     "data": {
      "text/plain": [
       "['/home/ubuntu/examen-dvc/src/models/best_params.pkl']"
      ]
     },
     "execution_count": 5,
     "metadata": {},
     "output_type": "execute_result"
    }
   ],
   "source": [
    "joblib.dump(grid_search.best_params_, '/home/ubuntu/exam_dvc/examen-dvc/src/models/best_params.pkl')"
   ]
  },
  {
   "cell_type": "code",
   "execution_count": 6,
   "metadata": {},
   "outputs": [
    {
     "data": {
      "text/plain": [
       "['/home/ubuntu/examen-dvc/src/models/model.pkl']"
      ]
     },
     "execution_count": 6,
     "metadata": {},
     "output_type": "execute_result"
    }
   ],
   "source": [
    "best_params = joblib.load('/home/ubuntu/exam_dvc/examen-dvc/src/models/best_params.pkl')\n",
    "\n",
    "model = Ridge(**best_params)\n",
    "model.fit(X_train, y_train.values.ravel())\n",
    "\n",
    "joblib.dump(model, '/home/ubuntu/exam_dvc/examen-dvc/src/models/model.pkl')"
   ]
  },
  {
   "cell_type": "code",
   "execution_count": 7,
   "metadata": {},
   "outputs": [],
   "source": [
    "y_pred = model.predict(X_test)\n",
    "\n",
    "mse = mean_squared_error(y_test, y_pred)\n",
    "r2 = r2_score(y_test, y_pred)\n",
    "\n",
    "metrics = {'mse': mse, 'r2': r2}\n",
    "with open('/home/ubuntu/exam_dvc/examen-dvc/metrics/scores.json', 'w') as f:\n",
    "    json.dump(metrics, f)\n",
    "\n",
    "pd.DataFrame(y_pred, columns=['predictions']).to_csv('/home/ubuntu/exam_dvc/examen-dvc/data/predictions.csv', index=False)"
   ]
  },
  {
   "cell_type": "code",
   "execution_count": 8,
   "metadata": {},
   "outputs": [
    {
     "name": "stdout",
     "output_type": "stream",
     "text": [
      "0.375\n"
     ]
    }
   ],
   "source": [
    "from sklearn.metrics import mean_squared_error\n",
    "y_true = [3, -0.5, 2, 7]\n",
    "y_pred = [2.5, 0.0, 2, 8]\n",
    "mse = mean_squared_error(y_true, y_pred)\n",
    "print(mse)\n"
   ]
  }
 ],
 "metadata": {
  "kernelspec": {
   "display_name": "venv",
   "language": "python",
   "name": "python3"
  },
  "language_info": {
   "codemirror_mode": {
    "name": "ipython",
    "version": 3
   },
   "file_extension": ".py",
   "mimetype": "text/x-python",
   "name": "python",
   "nbconvert_exporter": "python",
   "pygments_lexer": "ipython3",
   "version": "3.8.10"
  }
 },
 "nbformat": 4,
 "nbformat_minor": 2
}
